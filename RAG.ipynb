{
 "cells": [
  {
   "cell_type": "markdown",
   "metadata": {},
   "source": [
    "## 加载数据集"
   ]
  },
  {
   "cell_type": "code",
   "execution_count": null,
   "metadata": {},
   "outputs": [
    {
     "name": "stdout",
     "output_type": "stream",
     "text": [
      "2271\n"
     ]
    }
   ],
   "source": [
    "import fitz  # PyMuPDF\n",
    "\n",
    "def extract_text_with_pymupdf(pdf_path):\n",
    "    document = fitz.open(pdf_path)\n",
    "    text = \"\"\n",
    "    for page_num in range(len(document)):\n",
    "        page = document.load_page(page_num)\n",
    "        text += page.get_text(\"text\")\n",
    "    return text\n",
    "\n",
    "text = extract_text_with_pymupdf(\"./data/RAG/QP-04 基础设施和过程运行环境管理程序.pdf\")\n",
    "print(len(text))"
   ]
  },
  {
   "cell_type": "markdown",
   "metadata": {},
   "source": [
    "## 文件切分\n",
    "\n",
    "固定长度切分"
   ]
  },
  {
   "cell_type": "code",
   "execution_count": 3,
   "metadata": {},
   "outputs": [
    {
     "name": "stdout",
     "output_type": "stream",
     "text": [
      "6\n"
     ]
    }
   ],
   "source": [
    "def split_string(s, length=400):\n",
    "    # 检查字符串长度是否小于等于指定长度\n",
    "    if len(s) <= length:\n",
    "        return [s]\n",
    "    \n",
    "    # 使用列表推导式直接切分字符串\n",
    "    return [s[i:i + length] for i in range(0, len(s), length)]\n",
    "\n",
    "# 示例使用\n",
    "# 示例使用\n",
    "segments = split_string(text)\n",
    "print(len(segments))"
   ]
  },
  {
   "cell_type": "code",
   "execution_count": 4,
   "metadata": {},
   "outputs": [
    {
     "data": {
      "text/plain": [
       "['深圳市XXXX 有限公司\\n文件编号：XX-QP-04\\n版\\n次：A/0\\n基础设施和过程运行环境管理程序\\n生效日期：2025.09.01\\n页\\n次：1/5\\n程序文件\\n编制：\\n部门负责人\\n审核：\\n管理者代表\\n批准：\\nNO.\\n版次\\n修改内容\\n修改日期\\n修改人\\n深圳市XXXX 有限公司\\n文件编号：XX-QP-04\\n版\\n次：A/0\\n基础设施和过程运行环境管理程序\\n生效日期：2025.09.01\\n页\\n次：2/5\\n一目的：\\n识别并提供和维护过程运行所需的基础设施和过程运行环境，以获得合格的产品和服务，\\n防止产品混淆和确保产品有序处置，提升顾客满意度，满足相关法律法规要求。\\n二范围：\\n适用于为实现产品符合性所需的基础设施和过程运行环境。\\n三定义：无。\\n四权责：\\n4.1 行政部: 负责对过程运行所需的设施、设备、支持性服务（如运输通讯或信息系统等）\\n及环境进行控制，以及与相关单位的联络。\\n4.2 各使用部门: ',\n",
       " '负责本部门所需的设施、设备的使用和日常维护。\\n五程序内容：\\n5.1 设施、设备的识别与管理: 公司所有设施、设备进行编码标识并由行政部统一登记在《设\\n施、设备台帐》并保管。\\n5.2 设施、设备的提供\\n5.2.1 各部门根据实际需求及公司发展需要制定设施，设备计划，行政部会同各相关部门对\\n该计划的合理性、适宜性、价格等进行多方论证。\\n5.2.2 行政部负责对公司场地的合理利用，尽量减少材料的搬运。\\n5.2.3 需购买设施、设备须填写《请购单》，经总经理批准后，再由采购部进行采购。\\n5.3 设施、设备的验收\\n5.3.1 对采购或自制之新设施、设备，由行政部和使用部门进行安装、调试，行政部协助确\\n认满足要求后填写《设施、设备验收单》验收，并入台帐管理。\\n5.3.2 验收不合格的设施、设备由采购部与供方协商退货。\\n4.4 设施、设备的使用、保养与维修\\n5.4.1 使用部门应严格按照设备操作指导文件',\n",
       " '进行操作及维护保养。\\n5.4.2 使用部门需要固定人员负责执行设施、设备的维护保养，定期对设备进行维护保养，\\n并在《设备保养卡》上进行记录。对用于医疗器械产品的生产设备，如维护活动或缺少维护\\n活动可能影响到产品的质量，应该编制相应的“保养计划”，将保养项目、频率进行明确。\\n5.4.3 设施、设备的维修由行政部负责，由使用部门填写《维修申请单》交行政部审核并安\\n深圳市XXXX 有限公司\\n文件编号：XX-QP-04\\n版\\n次：A/0\\n基础设施和过程运行环境管理程序\\n生效日期：2025.09.01\\n页\\n次：3/5\\n排维修，需要委外维修则报总经办批准，由行政部联系委外维修。\\n5.4.4 设施设备维修后由各部门试用验收，并在《维修申请单>验收栏签字确认。\\n5.4.5 行政部应将各生产设备的维修履历记录于<设备履历表》上。\\n5.4.6 行政部负责定期对消防设施的检查以确保消防安全并记录在《消防设施检查表',\n",
       " '》上。\\n5.5 设施、设备、的报废\\n5.5.1 对无法修复或无使用价值的设施、设备、由使用部门提出申请并填写报废申请单，报\\n总经理批准后交行政部存档，并在《设施、设备台帐》上消帐。\\n5.5.2 在使用现场上的报废设施/设备应标识,并撤离现场或及时申请报废处理。\\n5.6 过程运行环境\\n5.6.1 过程运行环境指工作时所处的条件，包括社会因素、心里因素、物理因素等。\\n5.6.2 行政部负责办公场所环境的监管，以及清洁卫生，负责厂区环境卫生，并搞好工厂绿\\n化，树立企业良好的形象；\\n5.6.3 行政部协助各部门对生产现场、库房严格执行5S 要求：整理、整顿、清洁、清扫、素\\n养，创造良好的工作环境。\\n5.6.4 对无尘车间的管理参照《洁净车间管理规定》严格控制人员清洁和车间环境。\\n5.7 厂房应当有适当的照明、温度、湿度和通风控制条件。\\n5.7.1 温度控制\\n厂房的温度应保持在\\n22-28 摄氏度\\n',\n",
       " '之间，同时应保持温度稳定，避免剧烈波动，以确保\\n生产环境的舒适性和设备运行的稳定性。\\n5.7.3 通风控制\\n厂房应配备有效的通风系统，确保空气流通，避免有害气体积聚。通风系统应定期维护，确\\n保其正常运行。\\n新鲜空气的换气率应符合相关行业标准，通常建议每小时换气次数不少于\\n6-8 次。\\n5.7.4 照明控制\\n厂房的照明应满足生产操作的视觉需求，避免过暗或过亮。一般工作区域的照度应保持\\n在\\n300-500 勒克斯（Lux），精细操作区域应适当提高照度至\\n500-750 勒克斯。\\n照明设备应均匀分布，避免眩光和阴影，确保工作环境的安全性和舒适性。\\n5.7.5 环境监控\\n深圳市XXXX 有限公司\\n文件编号：XX-QP-04\\n版\\n次：A/0\\n基础设施和过程运行环境管理程序\\n生效日期：2025.09.01\\n页\\n次：4/5\\n厂房应安装温度、湿度和空气质量监测设备，实时监控环境参数，并记录数据以备查验。\\n',\n",
       " '当环境参数超出设定范围时，应及时采取措施进行调整，并记录异常情况及处理结果。\\n六相关文件：\\n6.1 操作规范\\n6.2 洁净车间管理规定\\n七相关记录：\\n7.1 设施、设备台帐\\n7.2 设施、设备验收单\\n7.3 设备保养卡\\n7.4 维修申请单\\n7.5 设备履历表\\n7.6 消防设施检查表\\n八流程图：\\n基础设施管理流程\\nOK\\nNG\\n验收\\n登\\n记\\n维\\n修\\n使\\n用\\n申请购置\\n供应商供货\\nNG\\n报\\n废\\n深圳市XXXX 有限公司\\n文件编号：XX-QP-04\\n版\\n次：A/0\\n基础设施和过程运行环境管理程序\\n生效日期：2025.09.01\\n页\\n次：5/5\\n']"
      ]
     },
     "execution_count": 4,
     "metadata": {},
     "output_type": "execute_result"
    }
   ],
   "source": [
    "segments"
   ]
  },
  {
   "cell_type": "markdown",
   "metadata": {},
   "source": [
    "固定长度 + Overlap"
   ]
  },
  {
   "cell_type": "code",
   "execution_count": 5,
   "metadata": {},
   "outputs": [
    {
     "name": "stdout",
     "output_type": "stream",
     "text": [
      "6\n"
     ]
    }
   ],
   "source": [
    "def split_string_with_overlap(s, length=500, overlap=100):\n",
    "    # 检查字符串长度是否小于等于指定长度\n",
    "    if len(s) <= length:\n",
    "        return [s]\n",
    "    \n",
    "    # 初始化结果列表\n",
    "    result = []\n",
    "    \n",
    "    # 开始位置\n",
    "    start = 0\n",
    "    \n",
    "    # 循环切分字符串\n",
    "    while start + length <= len(s):\n",
    "        # 获取子字符串\n",
    "        substring = s[start:start + length]\n",
    "        result.append(substring)\n",
    "        \n",
    "        # 更新开始位置，考虑重叠\n",
    "        start += (length - overlap)\n",
    "    \n",
    "    # 处理最后一段\n",
    "    if start < len(s):\n",
    "        result.append(s[start:])\n",
    "    \n",
    "    return result\n",
    "\n",
    "# 示例使用\n",
    "segments = split_string_with_overlap(text)\n",
    "print(len(segments))"
   ]
  },
  {
   "cell_type": "code",
   "execution_count": 6,
   "metadata": {},
   "outputs": [
    {
     "data": {
      "text/plain": [
       "['深圳市XXXX 有限公司\\n文件编号：XX-QP-04\\n版\\n次：A/0\\n基础设施和过程运行环境管理程序\\n生效日期：2025.09.01\\n页\\n次：1/5\\n程序文件\\n编制：\\n部门负责人\\n审核：\\n管理者代表\\n批准：\\nNO.\\n版次\\n修改内容\\n修改日期\\n修改人\\n深圳市XXXX 有限公司\\n文件编号：XX-QP-04\\n版\\n次：A/0\\n基础设施和过程运行环境管理程序\\n生效日期：2025.09.01\\n页\\n次：2/5\\n一目的：\\n识别并提供和维护过程运行所需的基础设施和过程运行环境，以获得合格的产品和服务，\\n防止产品混淆和确保产品有序处置，提升顾客满意度，满足相关法律法规要求。\\n二范围：\\n适用于为实现产品符合性所需的基础设施和过程运行环境。\\n三定义：无。\\n四权责：\\n4.1 行政部: 负责对过程运行所需的设施、设备、支持性服务（如运输通讯或信息系统等）\\n及环境进行控制，以及与相关单位的联络。\\n4.2 各使用部门: 负责本部门所需的设施、设备的使用和日常维护。\\n五程序内容：\\n5.1 设施、设备的识别与管理: 公司所有设施、设备进行编码标识并由行政部统一登记在《设\\n施、设备台帐》并保管。\\n5.2 设施、设备的提供\\n',\n",
       " '负责本部门所需的设施、设备的使用和日常维护。\\n五程序内容：\\n5.1 设施、设备的识别与管理: 公司所有设施、设备进行编码标识并由行政部统一登记在《设\\n施、设备台帐》并保管。\\n5.2 设施、设备的提供\\n5.2.1 各部门根据实际需求及公司发展需要制定设施，设备计划，行政部会同各相关部门对\\n该计划的合理性、适宜性、价格等进行多方论证。\\n5.2.2 行政部负责对公司场地的合理利用，尽量减少材料的搬运。\\n5.2.3 需购买设施、设备须填写《请购单》，经总经理批准后，再由采购部进行采购。\\n5.3 设施、设备的验收\\n5.3.1 对采购或自制之新设施、设备，由行政部和使用部门进行安装、调试，行政部协助确\\n认满足要求后填写《设施、设备验收单》验收，并入台帐管理。\\n5.3.2 验收不合格的设施、设备由采购部与供方协商退货。\\n4.4 设施、设备的使用、保养与维修\\n5.4.1 使用部门应严格按照设备操作指导文件进行操作及维护保养。\\n5.4.2 使用部门需要固定人员负责执行设施、设备的维护保养，定期对设备进行维护保养，\\n并在《设备保养卡》上进行记录。对用于医疗器械产品的生产设备，如维护活动或缺少维护\\n活动可能',\n",
       " '进行操作及维护保养。\\n5.4.2 使用部门需要固定人员负责执行设施、设备的维护保养，定期对设备进行维护保养，\\n并在《设备保养卡》上进行记录。对用于医疗器械产品的生产设备，如维护活动或缺少维护\\n活动可能影响到产品的质量，应该编制相应的“保养计划”，将保养项目、频率进行明确。\\n5.4.3 设施、设备的维修由行政部负责，由使用部门填写《维修申请单》交行政部审核并安\\n深圳市XXXX 有限公司\\n文件编号：XX-QP-04\\n版\\n次：A/0\\n基础设施和过程运行环境管理程序\\n生效日期：2025.09.01\\n页\\n次：3/5\\n排维修，需要委外维修则报总经办批准，由行政部联系委外维修。\\n5.4.4 设施设备维修后由各部门试用验收，并在《维修申请单>验收栏签字确认。\\n5.4.5 行政部应将各生产设备的维修履历记录于<设备履历表》上。\\n5.4.6 行政部负责定期对消防设施的检查以确保消防安全并记录在《消防设施检查表》上。\\n5.5 设施、设备、的报废\\n5.5.1 对无法修复或无使用价值的设施、设备、由使用部门提出申请并填写报废申请单，报\\n总经理批准后交行政部存档，并在《设施、设备台帐》上消帐。\\n5.5.2 在使用',\n",
       " '》上。\\n5.5 设施、设备、的报废\\n5.5.1 对无法修复或无使用价值的设施、设备、由使用部门提出申请并填写报废申请单，报\\n总经理批准后交行政部存档，并在《设施、设备台帐》上消帐。\\n5.5.2 在使用现场上的报废设施/设备应标识,并撤离现场或及时申请报废处理。\\n5.6 过程运行环境\\n5.6.1 过程运行环境指工作时所处的条件，包括社会因素、心里因素、物理因素等。\\n5.6.2 行政部负责办公场所环境的监管，以及清洁卫生，负责厂区环境卫生，并搞好工厂绿\\n化，树立企业良好的形象；\\n5.6.3 行政部协助各部门对生产现场、库房严格执行5S 要求：整理、整顿、清洁、清扫、素\\n养，创造良好的工作环境。\\n5.6.4 对无尘车间的管理参照《洁净车间管理规定》严格控制人员清洁和车间环境。\\n5.7 厂房应当有适当的照明、温度、湿度和通风控制条件。\\n5.7.1 温度控制\\n厂房的温度应保持在\\n22-28 摄氏度\\n之间，同时应保持温度稳定，避免剧烈波动，以确保\\n生产环境的舒适性和设备运行的稳定性。\\n5.7.3 通风控制\\n厂房应配备有效的通风系统，确保空气流通，避免有害气体积聚。通风系统应定期维护，确\\n保其正常运',\n",
       " '之间，同时应保持温度稳定，避免剧烈波动，以确保\\n生产环境的舒适性和设备运行的稳定性。\\n5.7.3 通风控制\\n厂房应配备有效的通风系统，确保空气流通，避免有害气体积聚。通风系统应定期维护，确\\n保其正常运行。\\n新鲜空气的换气率应符合相关行业标准，通常建议每小时换气次数不少于\\n6-8 次。\\n5.7.4 照明控制\\n厂房的照明应满足生产操作的视觉需求，避免过暗或过亮。一般工作区域的照度应保持\\n在\\n300-500 勒克斯（Lux），精细操作区域应适当提高照度至\\n500-750 勒克斯。\\n照明设备应均匀分布，避免眩光和阴影，确保工作环境的安全性和舒适性。\\n5.7.5 环境监控\\n深圳市XXXX 有限公司\\n文件编号：XX-QP-04\\n版\\n次：A/0\\n基础设施和过程运行环境管理程序\\n生效日期：2025.09.01\\n页\\n次：4/5\\n厂房应安装温度、湿度和空气质量监测设备，实时监控环境参数，并记录数据以备查验。\\n当环境参数超出设定范围时，应及时采取措施进行调整，并记录异常情况及处理结果。\\n六相关文件：\\n6.1 操作规范\\n6.2 洁净车间管理规定\\n七相关记录：\\n7.1 设施、设备台帐\\n7.2 设施、设备验收单\\n',\n",
       " '当环境参数超出设定范围时，应及时采取措施进行调整，并记录异常情况及处理结果。\\n六相关文件：\\n6.1 操作规范\\n6.2 洁净车间管理规定\\n七相关记录：\\n7.1 设施、设备台帐\\n7.2 设施、设备验收单\\n7.3 设备保养卡\\n7.4 维修申请单\\n7.5 设备履历表\\n7.6 消防设施检查表\\n八流程图：\\n基础设施管理流程\\nOK\\nNG\\n验收\\n登\\n记\\n维\\n修\\n使\\n用\\n申请购置\\n供应商供货\\nNG\\n报\\n废\\n深圳市XXXX 有限公司\\n文件编号：XX-QP-04\\n版\\n次：A/0\\n基础设施和过程运行环境管理程序\\n生效日期：2025.09.01\\n页\\n次：5/5\\n']"
      ]
     },
     "execution_count": 6,
     "metadata": {},
     "output_type": "execute_result"
    }
   ],
   "source": [
    "segments"
   ]
  },
  {
   "cell_type": "markdown",
   "metadata": {},
   "source": [
    "预设切分点切分"
   ]
  },
  {
   "cell_type": "code",
   "execution_count": 2,
   "metadata": {},
   "outputs": [
    {
     "name": "stdout",
     "output_type": "stream",
     "text": [
      "6\n"
     ]
    }
   ],
   "source": [
    "def split_string_if_needed(s, title, max_length=400):\n",
    "    \"\"\"\n",
    "    根据需要将字符串分割为多个部分，每个部分长度不超过max_length。\n",
    "\n",
    "    参数:\n",
    "    s (str): 需要处理的字符串。\n",
    "    title (str): 添加到每一段开头的标题。\n",
    "    max_length (int, optional): 允许的最大长度。默认为400。\n",
    "\n",
    "    返回:\n",
    "    list: 包含一个或多个字符串的列表，每个字符串的长度不超过max_length，并且以title开头。\n",
    "    \"\"\"\n",
    "    segments = []\n",
    "    current_segment = \"\"\n",
    "    current_length = 0\n",
    "\n",
    "    # 分割字符串\n",
    "    for line in s.split('\\n'):\n",
    "        line_length = len(line) + 1  # 加上换行符的长度\n",
    "\n",
    "        # 检查是否添加当前行会导致超出最大长度\n",
    "        if current_length + line_length > max_length:\n",
    "            # 添加当前片段到segments列表，并开始新的片段\n",
    "            segments.append(f\"<{title}>:\" + current_segment.rstrip())\n",
    "            current_segment = \"\"\n",
    "            current_length = 0\n",
    "\n",
    "        # 如果行本身超过最大长度，尝试在行内分割\n",
    "        if line_length > max_length:\n",
    "            # 在行内找到一个适当的分割点\n",
    "            while line:\n",
    "                if len(line) <= max_length:\n",
    "                    current_segment += line\n",
    "                    break\n",
    "                else:\n",
    "                    # 寻找分割点，优先考虑空格\n",
    "                    space_index = line[:max_length].rfind(' ')\n",
    "                    if space_index == -1:\n",
    "                        # 如果没有空格，直接截断\n",
    "                        current_segment += line[:max_length-1]\n",
    "                        line = line[max_length-1:]\n",
    "                    else:\n",
    "                        # 在空格处分割\n",
    "                        current_segment += line[:space_index]\n",
    "                        line = line[space_index+1:]\n",
    "\n",
    "                # 检查是否需要添加新片段\n",
    "                if len(current_segment) > 0 and len(line) > 0:\n",
    "                    segments.append(f\"<{title}>:\" + current_segment.rstrip())\n",
    "                    current_segment = \"\"\n",
    "                    current_length = 0\n",
    "\n",
    "        # 否则，正常添加行到当前片段\n",
    "        else:\n",
    "            current_segment += line + '\\n'\n",
    "            current_length += line_length\n",
    "\n",
    "    # 添加最后一个片段\n",
    "    if current_segment:\n",
    "        segments.append(f\"<{title}>:\" +\"\\n\"+ current_segment.rstrip())\n",
    "\n",
    "    return segments\n",
    "\n",
    "segments = split_string_if_needed(text, \"QP-04 基础设施和过程运行环境管理程序\")\n",
    "print(len(segments))"
   ]
  },
  {
   "cell_type": "code",
   "execution_count": 8,
   "metadata": {},
   "outputs": [
    {
     "data": {
      "text/plain": [
       "['<QP-04 基础设施和过程运行环境管理程序>:深圳市XXXX 有限公司\\n文件编号：XX-QP-04\\n版\\n次：A/0\\n基础设施和过程运行环境管理程序\\n生效日期：2025.09.01\\n页\\n次：1/5\\n程序文件\\n编制：\\n部门负责人\\n审核：\\n管理者代表\\n批准：\\nNO.\\n版次\\n修改内容\\n修改日期\\n修改人\\n深圳市XXXX 有限公司\\n文件编号：XX-QP-04\\n版\\n次：A/0\\n基础设施和过程运行环境管理程序\\n生效日期：2025.09.01\\n页\\n次：2/5\\n一目的：\\n识别并提供和维护过程运行所需的基础设施和过程运行环境，以获得合格的产品和服务，\\n防止产品混淆和确保产品有序处置，提升顾客满意度，满足相关法律法规要求。\\n二范围：\\n适用于为实现产品符合性所需的基础设施和过程运行环境。\\n三定义：无。\\n四权责：\\n4.1 行政部: 负责对过程运行所需的设施、设备、支持性服务（如运输通讯或信息系统等）\\n及环境进行控制，以及与相关单位的联络。',\n",
       " '<QP-04 基础设施和过程运行环境管理程序>:4.2 各使用部门: 负责本部门所需的设施、设备的使用和日常维护。\\n五程序内容：\\n5.1 设施、设备的识别与管理: 公司所有设施、设备进行编码标识并由行政部统一登记在《设\\n施、设备台帐》并保管。\\n5.2 设施、设备的提供\\n5.2.1 各部门根据实际需求及公司发展需要制定设施，设备计划，行政部会同各相关部门对\\n该计划的合理性、适宜性、价格等进行多方论证。\\n5.2.2 行政部负责对公司场地的合理利用，尽量减少材料的搬运。\\n5.2.3 需购买设施、设备须填写《请购单》，经总经理批准后，再由采购部进行采购。\\n5.3 设施、设备的验收\\n5.3.1 对采购或自制之新设施、设备，由行政部和使用部门进行安装、调试，行政部协助确\\n认满足要求后填写《设施、设备验收单》验收，并入台帐管理。\\n5.3.2 验收不合格的设施、设备由采购部与供方协商退货。\\n4.4 设施、设备的使用、保养与维修',\n",
       " '<QP-04 基础设施和过程运行环境管理程序>:5.4.1 使用部门应严格按照设备操作指导文件进行操作及维护保养。\\n5.4.2 使用部门需要固定人员负责执行设施、设备的维护保养，定期对设备进行维护保养，\\n并在《设备保养卡》上进行记录。对用于医疗器械产品的生产设备，如维护活动或缺少维护\\n活动可能影响到产品的质量，应该编制相应的“保养计划”，将保养项目、频率进行明确。\\n5.4.3 设施、设备的维修由行政部负责，由使用部门填写《维修申请单》交行政部审核并安\\n深圳市XXXX 有限公司\\n文件编号：XX-QP-04\\n版\\n次：A/0\\n基础设施和过程运行环境管理程序\\n生效日期：2025.09.01\\n页\\n次：3/5\\n排维修，需要委外维修则报总经办批准，由行政部联系委外维修。\\n5.4.4 设施设备维修后由各部门试用验收，并在《维修申请单>验收栏签字确认。\\n5.4.5 行政部应将各生产设备的维修履历记录于<设备履历表》上。',\n",
       " '<QP-04 基础设施和过程运行环境管理程序>:5.4.6 行政部负责定期对消防设施的检查以确保消防安全并记录在《消防设施检查表》上。\\n5.5 设施、设备、的报废\\n5.5.1 对无法修复或无使用价值的设施、设备、由使用部门提出申请并填写报废申请单，报\\n总经理批准后交行政部存档，并在《设施、设备台帐》上消帐。\\n5.5.2 在使用现场上的报废设施/设备应标识,并撤离现场或及时申请报废处理。\\n5.6 过程运行环境\\n5.6.1 过程运行环境指工作时所处的条件，包括社会因素、心里因素、物理因素等。\\n5.6.2 行政部负责办公场所环境的监管，以及清洁卫生，负责厂区环境卫生，并搞好工厂绿\\n化，树立企业良好的形象；\\n5.6.3 行政部协助各部门对生产现场、库房严格执行5S 要求：整理、整顿、清洁、清扫、素\\n养，创造良好的工作环境。\\n5.6.4 对无尘车间的管理参照《洁净车间管理规定》严格控制人员清洁和车间环境。',\n",
       " '<QP-04 基础设施和过程运行环境管理程序>:5.7 厂房应当有适当的照明、温度、湿度和通风控制条件。\\n5.7.1 温度控制\\n厂房的温度应保持在\\n22-28 摄氏度\\n之间，同时应保持温度稳定，避免剧烈波动，以确保\\n生产环境的舒适性和设备运行的稳定性。\\n5.7.3 通风控制\\n厂房应配备有效的通风系统，确保空气流通，避免有害气体积聚。通风系统应定期维护，确\\n保其正常运行。\\n新鲜空气的换气率应符合相关行业标准，通常建议每小时换气次数不少于\\n6-8 次。\\n5.7.4 照明控制\\n厂房的照明应满足生产操作的视觉需求，避免过暗或过亮。一般工作区域的照度应保持\\n在\\n300-500 勒克斯（Lux），精细操作区域应适当提高照度至\\n500-750 勒克斯。\\n照明设备应均匀分布，避免眩光和阴影，确保工作环境的安全性和舒适性。\\n5.7.5 环境监控\\n深圳市XXXX 有限公司\\n文件编号：XX-QP-04\\n版\\n次：A/0\\n基础设施和过程运行环境管理程序',\n",
       " '<QP-04 基础设施和过程运行环境管理程序>:\\n生效日期：2025.09.01\\n页\\n次：4/5\\n厂房应安装温度、湿度和空气质量监测设备，实时监控环境参数，并记录数据以备查验。\\n当环境参数超出设定范围时，应及时采取措施进行调整，并记录异常情况及处理结果。\\n六相关文件：\\n6.1 操作规范\\n6.2 洁净车间管理规定\\n七相关记录：\\n7.1 设施、设备台帐\\n7.2 设施、设备验收单\\n7.3 设备保养卡\\n7.4 维修申请单\\n7.5 设备履历表\\n7.6 消防设施检查表\\n八流程图：\\n基础设施管理流程\\nOK\\nNG\\n验收\\n登\\n记\\n维\\n修\\n使\\n用\\n申请购置\\n供应商供货\\nNG\\n报\\n废\\n深圳市XXXX 有限公司\\n文件编号：XX-QP-04\\n版\\n次：A/0\\n基础设施和过程运行环境管理程序\\n生效日期：2025.09.01\\n页\\n次：5/5']"
      ]
     },
     "execution_count": 8,
     "metadata": {},
     "output_type": "execute_result"
    }
   ],
   "source": [
    "segments"
   ]
  },
  {
   "cell_type": "markdown",
   "metadata": {},
   "source": [
    "## Embedding"
   ]
  },
  {
   "cell_type": "code",
   "execution_count": null,
   "metadata": {},
   "outputs": [],
   "source": [
    "from sentence_transformers import SentenceTransformer\n",
    "import torch\n",
    "\n",
    "DEVICE = 'cuda' if torch.cuda.is_available() else 'cpu'\n",
    "model_embedding = SentenceTransformer('/root/Model/yangjhchs/acge_text_embedding', device=DEVICE)\n",
    "Index = model_embedding.encode(segments, normalize_embeddings=True)"
   ]
  },
  {
   "cell_type": "markdown",
   "metadata": {},
   "source": [
    "## retriever"
   ]
  },
  {
   "cell_type": "code",
   "execution_count": 56,
   "metadata": {},
   "outputs": [],
   "source": [
    "import numpy as np\n",
    "def retriever_top(similarity, text_list, num_top):\n",
    "    retrieve_dict = {}\n",
    "    arr = np.array(similarity).flatten()\n",
    "    \n",
    "    # 找到排序后的索引，基于调整后的相似度\n",
    "    sorted_indices = np.array(arr).argsort()\n",
    "    # 因为argsort()返回的是从小到大排序的索引，所以我们需要从末尾开始取\n",
    "    top_indices = sorted_indices[-num_top:][::-1]  # 反转切片以获得最大的几个索引\n",
    "    # 获取对应的值\n",
    "    top_values = np.array(arr)[top_indices]\n",
    "    \n",
    "    # 输出结果\n",
    "    for n, (i, v) in enumerate(zip(top_indices, top_values)):\n",
    "        retrieve_dict[n] = {\n",
    "            'Index': str(i),\n",
    "            'score': str(v),\n",
    "            'content': text_list[i]\n",
    "        }\n",
    "        \n",
    "    return retrieve_dict\n",
    "\n",
    "# retriever 函数保持不变，但调用 retriever_top 时传递额外参数\n",
    "def retriever(model, question, Index, text_list, num_top=1):\n",
    "    question_embeddings = model.encode(question, normalize_embeddings=True)\n",
    "    similarity = Index @ question_embeddings.T\n",
    "    retrieve_dict = retriever_top(\n",
    "        similarity, \n",
    "        text_list, \n",
    "        num_top\n",
    "    )\n",
    "    \n",
    "    return retrieve_dict"
   ]
  },
  {
   "cell_type": "code",
   "execution_count": 11,
   "metadata": {},
   "outputs": [],
   "source": [
    "question = \"不再使用的设备怎么处置\"\n",
    "retrieve_dict = retriever(model_embedding,question, Index, segments, num_top=2)"
   ]
  },
  {
   "cell_type": "code",
   "execution_count": 12,
   "metadata": {},
   "outputs": [
    {
     "data": {
      "text/plain": [
       "{0: {'Index': '2',\n",
       "  'score': '0.59251785',\n",
       "  'content': '<QP-04 基础设施和过程运行环境管理程序>:5.4.1 使用部门应严格按照设备操作指导文件进行操作及维护保养。\\n5.4.2 使用部门需要固定人员负责执行设施、设备的维护保养，定期对设备进行维护保养，\\n并在《设备保养卡》上进行记录。对用于医疗器械产品的生产设备，如维护活动或缺少维护\\n活动可能影响到产品的质量，应该编制相应的“保养计划”，将保养项目、频率进行明确。\\n5.4.3 设施、设备的维修由行政部负责，由使用部门填写《维修申请单》交行政部审核并安\\n深圳市XXXX 有限公司\\n文件编号：XX-QP-04\\n版\\n次：A/0\\n基础设施和过程运行环境管理程序\\n生效日期：2025.09.01\\n页\\n次：3/5\\n排维修，需要委外维修则报总经办批准，由行政部联系委外维修。\\n5.4.4 设施设备维修后由各部门试用验收，并在《维修申请单>验收栏签字确认。\\n5.4.5 行政部应将各生产设备的维修履历记录于<设备履历表》上。'},\n",
       " 1: {'Index': '3',\n",
       "  'score': '0.5747191',\n",
       "  'content': '<QP-04 基础设施和过程运行环境管理程序>:5.4.6 行政部负责定期对消防设施的检查以确保消防安全并记录在《消防设施检查表》上。\\n5.5 设施、设备、的报废\\n5.5.1 对无法修复或无使用价值的设施、设备、由使用部门提出申请并填写报废申请单，报\\n总经理批准后交行政部存档，并在《设施、设备台帐》上消帐。\\n5.5.2 在使用现场上的报废设施/设备应标识,并撤离现场或及时申请报废处理。\\n5.6 过程运行环境\\n5.6.1 过程运行环境指工作时所处的条件，包括社会因素、心里因素、物理因素等。\\n5.6.2 行政部负责办公场所环境的监管，以及清洁卫生，负责厂区环境卫生，并搞好工厂绿\\n化，树立企业良好的形象；\\n5.6.3 行政部协助各部门对生产现场、库房严格执行5S 要求：整理、整顿、清洁、清扫、素\\n养，创造良好的工作环境。\\n5.6.4 对无尘车间的管理参照《洁净车间管理规定》严格控制人员清洁和车间环境。'}}"
      ]
     },
     "execution_count": 12,
     "metadata": {},
     "output_type": "execute_result"
    }
   ],
   "source": [
    "retrieve_dict"
   ]
  },
  {
   "cell_type": "markdown",
   "metadata": {},
   "source": [
    "# 遍历所有文件"
   ]
  },
  {
   "cell_type": "code",
   "execution_count": 13,
   "metadata": {},
   "outputs": [
    {
     "name": "stdout",
     "output_type": "stream",
     "text": [
      "./data/RAG\\QP-01 组织环境和相关方要求管理程序.pdf\n",
      "./data/RAG\\QP-02 风险和机遇管理程序.pdf\n",
      "./data/RAG\\QP-03 人力资源管理程序.pdf\n",
      "./data/RAG\\QP-04 基础设施和过程运行环境管理程序.pdf\n",
      "./data/RAG\\QP-05 监视和测量资源管理程序.pdf\n",
      "./data/RAG\\QP-06 信息交流管理程序.pdf\n",
      "./data/RAG\\QP-07 文件与记录管理程序.pdf\n",
      "./data/RAG\\QP-08 医疗器械风险管理程序.pdf\n",
      "./data/RAG\\QP-09 营销管理程序.pdf\n",
      "./data/RAG\\QP-10 设计开发转换管理程序.pdf\n",
      "./data/RAG\\QP-11 变更管理程序.pdf\n",
      "./data/RAG\\QP-12 采购管理程序.pdf\n",
      "./data/RAG\\QP-13 生产管理程序.pdf\n",
      "./data/RAG\\QP-14 标识与可追溯性管理程序.pdf\n",
      "./data/RAG\\QP-15 顾客和外部供方财产管理程序.pdf\n",
      "./data/RAG\\QP-16 产品防护管理程序.pdf\n",
      "./data/RAG\\QP-17 顾客投诉与服务管理程序.pdf\n",
      "./data/RAG\\QP-18 产品检验管理程序.pdf\n",
      "./data/RAG\\QP-19 不合格品控制程序.pdf\n",
      "./data/RAG\\QP-20 数据分析管理程序.pdf\n",
      "./data/RAG\\QP-21 顾客满意度管理程序.pdf\n",
      "./data/RAG\\QP-22 反馈及忠告性通知管理程序.pdf\n",
      "./data/RAG\\QP-23 内部审核管理程序.pdf\n",
      "./data/RAG\\QP-24 管理评审管理程序.pdf\n",
      "./data/RAG\\QP-25 改进管理程序.pdf\n",
      "./data/RAG\\QP-26 医疗器械法规识别管理程序.pdf\n",
      "./data/RAG\\QP-27 设计开发管理程序.pdf\n"
     ]
    }
   ],
   "source": [
    "import os\n",
    "\n",
    "# 指定要遍历的文件夹路径\n",
    "folder_path = './data/RAG'\n",
    "\n",
    "# 遍历文件夹及其子文件夹\n",
    "for root, dirs, files in os.walk(folder_path):\n",
    "    for file in files:\n",
    "        # 检查文件扩展名是否为 .pdf\n",
    "        if file.lower().endswith('.pdf'):\n",
    "            # 拼接文件的完整路径\n",
    "            pdf_file_path = os.path.join(root, file)\n",
    "            print(pdf_file_path)"
   ]
  },
  {
   "cell_type": "code",
   "execution_count": 14,
   "metadata": {},
   "outputs": [
    {
     "name": "stdout",
     "output_type": "stream",
     "text": [
      "1917\n",
      "2860\n",
      "2486\n",
      "2271\n",
      "2505\n",
      "1681\n",
      "3155\n",
      "8082\n",
      "2482\n",
      "1363\n",
      "3601\n",
      "2185\n",
      "3485\n",
      "2620\n",
      "1233\n",
      "2583\n",
      "2535\n",
      "2358\n",
      "2265\n",
      "1113\n",
      "1207\n",
      "5116\n",
      "1954\n",
      "2119\n",
      "2968\n",
      "1760\n",
      "3906\n"
     ]
    }
   ],
   "source": [
    "import os\n",
    "\n",
    "# 指定要遍历的文件夹路径\n",
    "folder_path = './data/RAG'\n",
    "\n",
    "\n",
    "# 遍历文件夹及其子文件夹\n",
    "for root, dirs, files in os.walk(folder_path):\n",
    "    for file in files:\n",
    "        # 检查文件扩展名是否为 .pdf\n",
    "        if file.lower().endswith('.pdf'):\n",
    "            # 拼接文件的完整路径\n",
    "            pdf_file_path = os.path.join(root, file)\n",
    "            #print(pdf_file_path)\n",
    "            text = extract_text_with_pymupdf(pdf_file_path)\n",
    "            print(len(text))\n"
   ]
  },
  {
   "cell_type": "code",
   "execution_count": 20,
   "metadata": {},
   "outputs": [
    {
     "name": "stdout",
     "output_type": "stream",
     "text": [
      "200\n"
     ]
    }
   ],
   "source": [
    "import os\n",
    "\n",
    "# 指定要遍历的文件夹路径\n",
    "folder_path = './data/RAG'\n",
    "\n",
    "segments = []\n",
    "# 遍历文件夹及其子文件夹\n",
    "for root, dirs, files in os.walk(folder_path):\n",
    "    for file in files:\n",
    "        # 检查文件扩展名是否为 .pdf\n",
    "        if file.lower().endswith('.pdf'):\n",
    "            # 拼接文件的完整路径\n",
    "            pdf_file_path = os.path.join(root, file)\n",
    "            #print(pdf_file_path)\n",
    "            text = extract_text_with_pymupdf(pdf_file_path)\n",
    "            segment = split_string_if_needed(text, file)\n",
    "            segments.extend(segment)\n",
    "\n",
    "print(len(segments))"
   ]
  },
  {
   "cell_type": "code",
   "execution_count": 16,
   "metadata": {},
   "outputs": [],
   "source": [
    "Index = model_embedding.encode(segments, normalize_embeddings=True)"
   ]
  },
  {
   "cell_type": "code",
   "execution_count": 17,
   "metadata": {},
   "outputs": [],
   "source": [
    "question = \"不再使用的设备怎么处置\"\n",
    "retrieve_dict = retriever(model_embedding,question, Index, segments, num_top=10)"
   ]
  },
  {
   "cell_type": "code",
   "execution_count": 18,
   "metadata": {},
   "outputs": [
    {
     "data": {
      "text/plain": [
       "{0: {'Index': '22',\n",
       "  'score': '0.59598875',\n",
       "  'content': '<QP-04 基础设施和过程运行环境管理程序.pdf>:5.4.1 使用部门应严格按照设备操作指导文件进行操作及维护保养。\\n5.4.2 使用部门需要固定人员负责执行设施、设备的维护保养，定期对设备进行维护保养，\\n并在《设备保养卡》上进行记录。对用于医疗器械产品的生产设备，如维护活动或缺少维护\\n活动可能影响到产品的质量，应该编制相应的“保养计划”，将保养项目、频率进行明确。\\n5.4.3 设施、设备的维修由行政部负责，由使用部门填写《维修申请单》交行政部审核并安\\n深圳市XXXX 有限公司\\n文件编号：XX-QP-04\\n版\\n次：A/0\\n基础设施和过程运行环境管理程序\\n生效日期：2025.09.01\\n页\\n次：3/5\\n排维修，需要委外维修则报总经办批准，由行政部联系委外维修。\\n5.4.4 设施设备维修后由各部门试用验收，并在《维修申请单>验收栏签字确认。\\n5.4.5 行政部应将各生产设备的维修履历记录于<设备履历表》上。'},\n",
       " 1: {'Index': '103',\n",
       "  'score': '0.59327567',\n",
       "  'content': '<QP-13 生产管理程序.pdf>:5.5.1 医疗器械产品的清洁和污染的控制，生产部对于生产完成的产品要进行必要的清洁控\\n制，确保产品的清洁。\\n5.5.2 医疗器械产品安装，产品出货后，如有必要时，由公司相应部门人员进行安装活动，\\n进行安装后的验证，并保持相应的验证记录。\\n5.5.3 医疗器械产品的维护，如顾客有要求时，应该提供必要的售后服务活动。\\n5.6 其它\\n5.6.1 不良品的处理：由生产部进行返工处理，应该由工程部编制《返工指导书》，将详细的\\n返工流程、步骤、返工操作要求及再检验要求进行明确规定，经返工后，必须进行产品的质\\n量再次验证，验证合格方可进入下一道工序作业或出货。\\n5.6.2 生产中使用的材料没有检验合格时，在特殊情况时由生产部填写《特采申请单》，经批\\n准后方可领用投入生产。\\n5.6.3 不可再生使用的报废品，由生产部填写《报废申请单》经品质部核实，总经理批准后\\n报废处理。'},\n",
       " 2: {'Index': '21',\n",
       "  'score': '0.5805216',\n",
       "  'content': '<QP-04 基础设施和过程运行环境管理程序.pdf>:4.2 各使用部门: 负责本部门所需的设施、设备的使用和日常维护。\\n五程序内容：\\n5.1 设施、设备的识别与管理: 公司所有设施、设备进行编码标识并由行政部统一登记在《设\\n施、设备台帐》并保管。\\n5.2 设施、设备的提供\\n5.2.1 各部门根据实际需求及公司发展需要制定设施，设备计划，行政部会同各相关部门对\\n该计划的合理性、适宜性、价格等进行多方论证。\\n5.2.2 行政部负责对公司场地的合理利用，尽量减少材料的搬运。\\n5.2.3 需购买设施、设备须填写《请购单》，经总经理批准后，再由采购部进行采购。\\n5.3 设施、设备的验收\\n5.3.1 对采购或自制之新设施、设备，由行政部和使用部门进行安装、调试，行政部协助确\\n认满足要求后填写《设施、设备验收单》验收，并入台帐管理。\\n5.3.2 验收不合格的设施、设备由采购部与供方协商退货。\\n4.4 设施、设备的使用、保养与维修'},\n",
       " 3: {'Index': '23',\n",
       "  'score': '0.57777596',\n",
       "  'content': '<QP-04 基础设施和过程运行环境管理程序.pdf>:5.4.6 行政部负责定期对消防设施的检查以确保消防安全并记录在《消防设施检查表》上。\\n5.5 设施、设备、的报废\\n5.5.1 对无法修复或无使用价值的设施、设备、由使用部门提出申请并填写报废申请单，报\\n总经理批准后交行政部存档，并在《设施、设备台帐》上消帐。\\n5.5.2 在使用现场上的报废设施/设备应标识,并撤离现场或及时申请报废处理。\\n5.6 过程运行环境\\n5.6.1 过程运行环境指工作时所处的条件，包括社会因素、心里因素、物理因素等。\\n5.6.2 行政部负责办公场所环境的监管，以及清洁卫生，负责厂区环境卫生，并搞好工厂绿\\n化，树立企业良好的形象；\\n5.6.3 行政部协助各部门对生产现场、库房严格执行5S 要求：整理、整顿、清洁、清扫、素\\n养，创造良好的工作环境。\\n5.6.4 对无尘车间的管理参照《洁净车间管理规定》严格控制人员清洁和车间环境。'},\n",
       " 4: {'Index': '114',\n",
       "  'score': '0.56211007',\n",
       "  'content': '<QP-15 顾客和外部供方财产管理程序.pdf>:4.4 使用部门：负责顾客或外部供方提供的治具、夹具及设备的标识管理。\\n五程序内容：\\n5.1 当顾客(或者外部供方)提供图纸等技术文件时，接收部门将信息转达至工程部，由工程\\n部负责审查、确认顾客(或者外部供方)提供图纸等技术文件，并转化为本公司内部的图纸等\\n技术文件，按外来文件要求，依《文件和记录管理程序》进行管理。\\n5.2 顾客或外部供方提供的设备，依《基础设施和过程运行环境管理程序》进行管理,顾客或\\n外部供方提供的治具、夹具及设备由工程人员登录管理及反馈。\\n5.3 顾客或外部供方提供的物料管理。\\n5.3.1 顾客或外部供方提供的物料检验，依《产品检验管理程序》执行，若顾客或外部供方\\n提供物料出现品质异常时，由品质部IQC 填写异常报告，反馈给顾客或外部供方。\\n5.3.2 顾客或外部供方提供的物料入库，由货仓根据料清单核对品名、规格及数量，无误后'},\n",
       " 5: {'Index': '122',\n",
       "  'score': '0.55006015',\n",
       "  'content': '<QP-16 产品防护管理程序.pdf>:5.4.3 出货后，仓管人员整理客户签回的《送货单》后，上交业务部门。\\n5.4.4《送货单》应由仓库、业务和财务各保存一联。\\n5.5 物料盘点\\n5.5.1 盘点\\n5.5.1.1 每月由仓管人员进行库存物料盘点，由仓管人员填写在《盘点表》上。\\n5.5.1.2 仓管将填好的《盘点表》交部门主管确认，如发现物帐不相符时由仓管人员重新盘\\n点。\\n5.5.1.3 仓库将《盘点表》交财务，如发现物帐不相符时，依厂长/副总经理指示执行调帐及\\n其他方式处理。\\n5.6 搬运作业\\n5.6.1 搬运工具：拉车/叉车等。\\n5.6.2 搬运原则：\\n5.6.2.1 搬运时要摆放整齐，防止跌落损坏。\\n5.6.2.2 搬运时，要以“省时、省力、安全”为原则.\\n5.6.2.3 待搬运物件要根据搬运工具特点正确摆放，以防搬运物件掉落。\\n5.7 包装，参照相关包装作业指导，包装不可挤压、变形，尾数箱不可外露。'},\n",
       " 6: {'Index': '188',\n",
       "  'score': '0.5486785',\n",
       "  'content': '<QP-26 医疗器械法规识别管理程序.pdf>:5.3.4 对已作废的旧版医疗器械法律法规、标准规范、其它要求应及时销毁或做出明显标识，\\n防止误用。\\n5.4 医疗器械法律法规的变更\\n5.4.1 医疗器械法律法规有变更时, 文控中心应及时对更改部分进行重新识别并修改《法律\\n法规和其他要求清单》。\\n5.4.2 文控中心医疗器械法规管理人员负责定期对法规进行变更或新发布情况的确认，一般\\n每月对法规的最新情况进行评审一次,以判断公司相关的法律法规及其要求是最新版本,并及\\n时对《法律法规和其他要求清单》进行更新。\\n5.4.3 医疗器械的法规变更或新法规如影响到相应的产品及文件，则由文控中心发出通知，\\n通知相应的部门进行产品的要求及文件的修订，如果涉及到产品的法规安全要求，必要时要\\n进行国家或国外相应的医疗器械部门认可时，则必须进行重新产品认可，认可合格方可进行\\n正式的交付。\\n六相关文件：\\n6.1 顾客投诉及退货管理程序\\n6.2 改进管理程序'},\n",
       " 7: {'Index': '139',\n",
       "  'score': '0.5467871',\n",
       "  'content': '<QP-19 不合格品控制程序.pdf>:产品再处理后交付的方法。\\n3.5 报废：为避免不合格产品被误用而对其采取的措施，如回收、销毁。\\n3.6 让步接受(特采)：对含有不合格特性的产品，在商定的时间或数量内，使用或放行的许\\n可。\\n四权责：\\n不合格\\n品区域\\n标示&隔离\\n判定\\n特采申\\n请单位\\n会审\\n核准\\n处置\\n备注\\n原材料\\n供应商\\n品质部\\n品质部\\n采购\\n品质部、采购部\\n工程部、生产部\\n(副)总经理\\n退货、报废\\n客供品\\n品质部\\n货仓部\\n品质部\\n业务部\\n品质部、生产部\\n(副)总经理\\n退货\\n依客户意\\n见生产\\n制程\\n生产、品质部\\n品质部\\n生产部\\n品管部、工程部\\n业务部\\n(副)总经理\\n返工、报废\\n特采\\n出货\\n仓库、品质部\\n品质部\\n业务部\\n品管部、工程部\\n业务部\\n(副)总经理\\n返工、报废、\\n特采\\n客退\\n业务部、品质部\\n品质部\\n业务部\\n品管部、工程部\\n业务部\\n(副)总经理\\n返工、报废\\n五程序内容：\\n5.1 不合格品的分类'},\n",
       " 8: {'Index': '119',\n",
       "  'score': '0.54162467',\n",
       "  'content': '<QP-16 产品防护管理程序.pdf>:5.1.7 货仓应该进行合理的区域规划，设立专门的环保待检区与材料存储区域，对所有物料\\n按其类别和是否环保分区域贮存，防止交叉污染。\\n5.1.8 对存放环境有特殊要求的环保料，则直接在其外包装上标识清楚后，与非环保物料隔\\n离好后，存放在适宜的环境中。\\n5.2 领/退料作业\\n5.2.1 生产部门根据生产计划所需物料，开出《领料单》，再到仓库进行领料。仓库“生产计\\n划表”提前进行备料准备,仓管人员要核对《领料单》确认所领物料是否正确，正确方可进行\\n深圳市XXXX 有限公司\\n文件编号：XX-QP-16\\n版\\n次：A/0\\n产品防护管理程序\\n生效日期：2025.09.01\\n页\\n次：3/5\\n发料，不正确退回生产部，发料时应遵守先进先出原则，领料时领料人当面确认所领物料无\\n误后签收。\\n5.2.2 发料后仓管人员及时将所发物料的型号及数量入帐。\\n5.2.3 超领作业'},\n",
       " 9: {'Index': '43',\n",
       "  'score': '0.53939044',\n",
       "  'content': '<QP-07 文件与记录管理程序.pdf>:盖“正本”印章或无须盖章，由文件管理单位负责管理)，并请文件领用部门在《文件收发记\\n录表》上签收。\\n5.4.4 在修订、废止文件须收旧版文件时，修订、废止部门填写《文件申请单》提出申请，\\n经相关管理人员批准后方可进行修订或废止，同时应注意数量及内容之完整，并于《文件收\\n发记录表》记录，文件收回后，除原版文件作为经验知识由文控中心保存并加盖“作废文件”\\n章存档以外，其它份数应立即销毁。公司至少保存一份作废文件，对其进行明确的标识区分，\\n由文控中心进行保存，其保管期限满足医疗器械法规及寿命期的要求，以利于进行追溯。\\n5.4.5 当文件使用部门发现文件有缺页、破烂、字迹不清或文件丢失时，应填写《文件异动\\n申请单》经体系负责人批准后,由文件管理单位予以补发,并在《文件收发记录表》中予以登\\n记。\\n外来文件的代号WL\\n流水号，自001~999\\n深圳市XXXX 有限公司\\n文件编号：XX-QP-07\\n版'}}"
      ]
     },
     "execution_count": 18,
     "metadata": {},
     "output_type": "execute_result"
    }
   ],
   "source": [
    "retrieve_dict"
   ]
  },
  {
   "cell_type": "markdown",
   "metadata": {},
   "source": [
    "## Rerank"
   ]
  },
  {
   "cell_type": "code",
   "execution_count": null,
   "metadata": {},
   "outputs": [],
   "source": [
    "from FlagEmbedding import FlagReranker\n",
    "model_reranker = FlagReranker('/root/Model/BAAI/bge-reranker-v2-m3', use_fp16=True, device=DEVICE)\n",
    "def retriever_rerank(reranker,retrieve_dict,question_intense,num_top_rerank):\n",
    "    rerank_list = []\n",
    "    for i in range(len(retrieve_dict)):\n",
    "        rerank_list.append([str(question_intense), retrieve_dict[i]['content']])\n",
    "    scores = reranker.compute_score(rerank_list, normalize=True)\n",
    "    #logger.info(scores) # [0.00027803096387751553, 0.9948403768236574]\n",
    "\n",
    "    rerank_dict = {}\n",
    "    arr = np.array(scores).flatten()\n",
    "    # 找到排序后的索引\n",
    "    sorted_indices = arr.argsort()\n",
    "    # 因为argsort()返回的是从小到大排序的索引，所以我们需要从末尾开始取\n",
    "    top3_indices = sorted_indices[-num_top_rerank:][::-1]  # 反转切片以获得最大的三个索引\n",
    "    # 获取对应的值\n",
    "    top3_values = arr[top3_indices]\n",
    "    # 输出结果\n",
    "    n = 0\n",
    "    for i, v in zip(top3_indices, top3_values):\n",
    "        rerank_dict[n] = {}\n",
    "        rerank_dict[n]['Index'] = i\n",
    "        rerank_dict[n]['score'] = v\n",
    "        rerank_dict[n]['content'] = retrieve_dict[i]['content']\n",
    "        n = n+1\n",
    "    return rerank_dict"
   ]
  },
  {
   "cell_type": "code",
   "execution_count": 21,
   "metadata": {},
   "outputs": [
    {
     "name": "stderr",
     "output_type": "stream",
     "text": [
      "You're using a XLMRobertaTokenizerFast tokenizer. Please note that with a fast tokenizer, using the `__call__` method is faster than using a method to encode the text followed by a call to the `pad` method to get a padded encoding.\n"
     ]
    }
   ],
   "source": [
    "temp_dict = retriever_rerank(model_reranker,retrieve_dict,question,num_top_rerank=1)"
   ]
  },
  {
   "cell_type": "code",
   "execution_count": 22,
   "metadata": {},
   "outputs": [
    {
     "data": {
      "text/plain": [
       "{0: {'Index': np.int64(3),\n",
       "  'score': np.float64(0.25842215555993203),\n",
       "  'content': '<QP-04 基础设施和过程运行环境管理程序.pdf>:5.4.6 行政部负责定期对消防设施的检查以确保消防安全并记录在《消防设施检查表》上。\\n5.5 设施、设备、的报废\\n5.5.1 对无法修复或无使用价值的设施、设备、由使用部门提出申请并填写报废申请单，报\\n总经理批准后交行政部存档，并在《设施、设备台帐》上消帐。\\n5.5.2 在使用现场上的报废设施/设备应标识,并撤离现场或及时申请报废处理。\\n5.6 过程运行环境\\n5.6.1 过程运行环境指工作时所处的条件，包括社会因素、心里因素、物理因素等。\\n5.6.2 行政部负责办公场所环境的监管，以及清洁卫生，负责厂区环境卫生，并搞好工厂绿\\n化，树立企业良好的形象；\\n5.6.3 行政部协助各部门对生产现场、库房严格执行5S 要求：整理、整顿、清洁、清扫、素\\n养，创造良好的工作环境。\\n5.6.4 对无尘车间的管理参照《洁净车间管理规定》严格控制人员清洁和车间环境。'}}"
      ]
     },
     "execution_count": 22,
     "metadata": {},
     "output_type": "execute_result"
    }
   ],
   "source": [
    "temp_dict"
   ]
  },
  {
   "cell_type": "markdown",
   "metadata": {},
   "source": [
    "## 关键词检索的BM25"
   ]
  },
  {
   "cell_type": "code",
   "execution_count": null,
   "metadata": {},
   "outputs": [
    {
     "name": "stderr",
     "output_type": "stream",
     "text": [
      "d:\\Program\\Anaconda3\\envs\\torch\\Lib\\site-packages\\tqdm\\auto.py:21: TqdmWarning: IProgress not found. Please update jupyter and ipywidgets. See https://ipywidgets.readthedocs.io/en/stable/user_install.html\n",
      "  from .autonotebook import tqdm as notebook_tqdm\n"
     ]
    }
   ],
   "source": [
    "from rank_bm25 import BM25Okapi\n",
    "from transformers import AutoTokenizer\n",
    "\n",
    "# 加载 tokenizer.json 中的分词器\n",
    "tokenizer = AutoTokenizer.from_pretrained(\"/root/Model/yangjhchs/acge_text_embedding\", local_files_only=True)"
   ]
  },
  {
   "cell_type": "code",
   "execution_count": 16,
   "metadata": {},
   "outputs": [],
   "source": [
    "# 示例文档集\n",
    "corpus = [\n",
    "    \"我喜欢学习人工智能\",\n",
    "    \"自然语言处理是人工智能的一个分支\",\n",
    "    \"机器学习在很多领域都有应用\",\n",
    "    \"深度学习是机器学习的一部分\",\n",
    "    \"贝叶斯定理很有意思\",\n",
    "    \"机器学习跟贝叶斯定理有关\"\n",
    "]\n",
    "\n",
    "# 使用transformers的tokenizer进行分词处理\n",
    "def tokenize_with_transformer(doc):\n",
    "    # 将文本转换为token ids\n",
    "    token_ids = tokenizer.encode(doc, add_special_tokens=False)\n",
    "    # 将token ids转换回tokens\n",
    "    tokens = tokenizer.convert_ids_to_tokens(token_ids)\n",
    "    # 过滤掉特殊字符（如果有）\n",
    "    tokens = [token for token in tokens if token not in tokenizer.all_special_tokens]\n",
    "    return tokens\n",
    "\n",
    "# 对文档集进行分词处理\n",
    "tokenized_corpus_bge = [tokenize_with_transformer(doc) for doc in corpus]\n"
   ]
  },
  {
   "cell_type": "code",
   "execution_count": 17,
   "metadata": {},
   "outputs": [
    {
     "name": "stdout",
     "output_type": "stream",
     "text": [
      "文档: 0, 得分: 0.7489802378254149\n",
      "文档: 1, 得分: 0.7603005204203539\n",
      "文档: 2, 得分: 0.2275633097516435\n",
      "文档: 3, 得分: 0.241464235912943\n",
      "文档: 4, 得分: 0.2275633097516435\n",
      "文档: 5, 得分: 0.20406728924191356\n",
      "\n",
      "最相关的文档:\n",
      "自然语言处理是人工智能的一个分支\n",
      "我喜欢学习人工智能\n"
     ]
    }
   ],
   "source": [
    "# 初始化BM25模型\n",
    "bm25 = BM25Okapi(tokenized_corpus_bge)\n",
    "\n",
    "# 查询字符串\n",
    "query = \"人工智能\"\n",
    "\n",
    "# 对查询进行分词处理\n",
    "tokenized_query = tokenize_with_transformer(query)\n",
    "\n",
    "# 获取BM25得分\n",
    "doc_scores = bm25.get_scores(tokenized_query)\n",
    "\n",
    "# 打印每篇文档的得分\n",
    "for index, score in enumerate(doc_scores):\n",
    "    print(f\"文档: {index}, 得分: {score}\")\n",
    "\n",
    "# 获取与查询最相关的前两篇文档\n",
    "most_relevant_docs = bm25.get_top_n(tokenized_query, corpus, n=2)\n",
    "print(\"\\n最相关的文档:\")\n",
    "for doc in most_relevant_docs:\n",
    "    print(doc)"
   ]
  },
  {
   "cell_type": "code",
   "execution_count": 18,
   "metadata": {},
   "outputs": [
    {
     "name": "stdout",
     "output_type": "stream",
     "text": [
      "文档: 0, 得分: 0.6915137234142578\n",
      "文档: 1, 得分: 0.5467782929322038\n",
      "文档: 2, 得分: 0.0\n",
      "文档: 3, 得分: 0.0\n",
      "文档: 4, 得分: 0.0\n",
      "文档: 5, 得分: 0.0\n",
      "\n",
      "最相关的文档:\n",
      "我喜欢学习人工智能\n",
      "自然语言处理是人工智能的一个分支\n"
     ]
    }
   ],
   "source": [
    "import jieba\n",
    "from rank_bm25 import BM25Okapi\n",
    "\n",
    "# 示例文档集\n",
    "corpus = [\n",
    "    \"我喜欢学习人工智能\",\n",
    "    \"自然语言处理是人工智能的一个分支\",\n",
    "    \"机器学习在很多领域都有应用\",\n",
    "    \"深度学习是机器学习的一部分\",\n",
    "    \"贝叶斯定理很有意思\",\n",
    "    \"机器学习跟贝叶斯定理有关\"\n",
    "]\n",
    "\n",
    "# 使用jieba进行分词处理\n",
    "def tokenize_with_jieba(doc):\n",
    "    # 使用精确模式进行分词\n",
    "    tokens = list(jieba.cut(doc, cut_all=False))\n",
    "    return tokens\n",
    "\n",
    "# 对文档集进行分词处理\n",
    "tokenized_corpus_jieba = [tokenize_with_jieba(doc) for doc in corpus]\n",
    "\n",
    "# 初始化BM25模型\n",
    "bm25 = BM25Okapi(tokenized_corpus_jieba)\n",
    "\n",
    "# 查询字符串\n",
    "query = \"人工智能\"\n",
    "\n",
    "# 对查询进行分词处理\n",
    "tokenized_query = tokenize_with_jieba(query)\n",
    "\n",
    "# 获取BM25得分\n",
    "doc_scores = bm25.get_scores(tokenized_query)\n",
    "\n",
    "# 打印每篇文档的得分\n",
    "for index, score in enumerate(doc_scores):\n",
    "    print(f\"文档: {index}, 得分: {score}\")\n",
    "\n",
    "# 获取与查询最相关的前两篇文档\n",
    "most_relevant_docs = bm25.get_top_n(tokenized_query, corpus, n=2)\n",
    "print(\"\\n最相关的文档:\")\n",
    "for doc in most_relevant_docs:\n",
    "    print(doc)"
   ]
  },
  {
   "cell_type": "code",
   "execution_count": null,
   "metadata": {},
   "outputs": [
    {
     "name": "stdout",
     "output_type": "stream",
     "text": [
      "\n",
      "最相关的文档:\n",
      "<QP-04 基础设施和过程运行环境管理程序.pdf>:5.4.6 行政部负责定期对消防设施的检查以确保消防安全并记录在《消防设施检查表》上。\n",
      "5.5 设施、设备、的报废\n",
      "5.5.1 对无法修复或无使用价值的设施、设备、由使用部门提出申请并填写报废申请单，报\n",
      "总经理批准后交行政部存档，并在《设施、设备台帐》上消帐。\n",
      "5.5.2 在使用现场上的报废设施/设备应标识,并撤离现场或及时申请报废处理。\n",
      "5.6 过程运行环境\n",
      "5.6.1 过程运行环境指工作时所处的条件，包括社会因素、心里因素、物理因素等。\n",
      "5.6.2 行政部负责办公场所环境的监管，以及清洁卫生，负责厂区环境卫生，并搞好工厂绿\n",
      "化，树立企业良好的形象；\n",
      "5.6.3 行政部协助各部门对生产现场、库房严格执行5S 要求：整理、整顿、清洁、清扫、素\n",
      "养，创造良好的工作环境。\n",
      "5.6.4 对无尘车间的管理参照《洁净车间管理规定》严格控制人员清洁和车间环境。\n",
      "<QP-05 监视和测量资源管理程序.pdf>:3.2.2 若为国内校正，则应追溯至国家标准，若为原厂校正，则应由原厂追溯至国际标准。\n",
      "3.3 内校(内部校正)\n",
      "3.3.1 使用经外校合格之标准器，利用量值传递原理对检测设备进行校准。\n",
      "3.3.2 凡先用标准件测量一组(比对件)，再用被校件量测后比对者称为比对校法。\n",
      "四权责：\n",
      "4.1 品质部是监测资源的主管部门，负责监测资源的选择，统一管理、校正。\n",
      "4.2 各监测资源的使用部门负责检测设备的日常点检及维护。\n",
      "五程序内容：\n",
      "5.1 测量设备的申请、验收、维修、登录、编号、报废类同“基础设施”要求实施。并建立\n",
      "相应的《监测设备一览表》。\n",
      "5.2 设备的校正\n",
      "5.2.1 与生产品质相关的测量设备，设备管理部门应予以校正，并根据具体情况确定其校正\n",
      "周期，并记录于《监测设备一览表》。\n",
      "5.2.2 内部校正：一般的测量设备需内校时，则必须确定校正环境，所用标准件，校正方式，\n"
     ]
    }
   ],
   "source": [
    "query = \"设备的报废流程\"\n",
    "# 对文档集进行分词处理\n",
    "tokenized_corpus_jieba = [tokenize_with_jieba(doc) for doc in segments]\n",
    "\n",
    "# 初始化BM25模型\n",
    "bm25 = BM25Okapi(tokenized_corpus_jieba,k1=1.5,b=0.6)\n",
    "\n",
    "# 对查询进行分词处理\n",
    "tokenized_query = tokenize_with_jieba(query)\n",
    "\n",
    "# 获取BM25得分\n",
    "doc_scores = bm25.get_scores(tokenized_query)\n",
    "\n",
    "# 打印每篇文档的得分\n",
    "#for index, score in enumerate(doc_scores):\n",
    "#    print(f\"文档: {index}, 得分: {score}\")\n",
    "\n",
    "# 获取与查询最相关的前两篇文档\n",
    "most_relevant_docs = bm25.get_top_n(tokenized_query, segments, n=2)\n",
    "print(\"\\n最相关的文档:\")\n",
    "for doc in most_relevant_docs:\n",
    "    print(doc)"
   ]
  },
  {
   "cell_type": "markdown",
   "metadata": {},
   "source": [
    "## 同时使用相似度和BM25进行匹配"
   ]
  },
  {
   "cell_type": "code",
   "execution_count": 46,
   "metadata": {},
   "outputs": [
    {
     "data": {
      "text/plain": [
       "array([ 2.11567316,  2.18620149,  1.65324555,  2.07938166,  3.91025624,\n",
       "        1.91871368,  2.10793989,  2.30305458,  4.56259209,  2.30331736,\n",
       "        2.31885121,  1.92669095,  4.3464713 ,  1.65324555,  2.21440168,\n",
       "        1.94284616,  2.16306213,  3.62107006,  1.43520411,  2.25270725,\n",
       "        3.4463384 ,  5.65039586,  5.35894209, 10.04759082,  3.7245584 ,\n",
       "        4.92023124,  3.54679766,  8.22336392,  7.49419494,  4.60038896,\n",
       "        2.19582059,  6.40595968,  5.63282833,  2.12694416,  1.99639587,\n",
       "        1.92554728,  1.92554728,  4.43541743,  2.02232516,  3.45731379,\n",
       "        1.64904338,  3.10626086,  1.82822644,  1.65184245,  2.11826355,\n",
       "        2.18620149,  2.36837253,  2.03607638,  2.26287286,  2.02232516,\n",
       "        3.90841924,  2.20252971,  2.35043451,  2.27051866,  2.35932215,\n",
       "        2.33625267,  2.33625267,  2.2416863 ,  2.33980031,  2.29382618,\n",
       "        2.29058673,  2.24104102,  2.3457604 ,  2.35086035,  2.34958328,\n",
       "        2.35128635,  2.26652151,  2.28364846,  0.        ,  2.18252424,\n",
       "        2.26774034,  2.16306213,  2.26825061,  2.0680191 ,  2.15428351,\n",
       "        2.23091679,  3.57216817,  4.82978599,  5.57048341,  1.85139346,\n",
       "        3.5266632 ,  2.25802623,  5.10641529,  6.40706132,  1.82822644,\n",
       "        2.21371478,  2.22267777,  2.11567316,  4.43148574,  1.31891586,\n",
       "        3.62757228,  2.19285187,  1.82822644,  3.69417961,  2.06990423,\n",
       "        2.02700183,  2.07084809,  2.11826355,  4.81660197,  4.45035698,\n",
       "        4.38828278,  3.87079173,  2.31978898,  7.92674947,  7.10709072,\n",
       "        0.        ,  1.9912896 ,  2.17029803,  2.11912842,  2.19582059,\n",
       "        2.10622905,  2.26105294,  3.85802018,  2.2102867 ,  4.70787339,\n",
       "        1.82693939,  2.38799035,  2.00049979,  1.92669095,  1.92898237,\n",
       "        1.65324555,  1.90855374,  1.40718771,  1.95153412,  2.06707783,\n",
       "        2.05957835,  2.15507862,  2.22822963,  2.27165438,  2.21302832,\n",
       "        2.11240365,  1.83209852,  1.91080219,  1.68181678,  3.26455263,\n",
       "        2.12259498,  6.50222489,  0.        ,  2.1519017 ,  7.25730781,\n",
       "        1.85302978,  4.9771654 ,  2.02022606,  4.69467348,  1.83468903,\n",
       "        2.19507766,  1.80491757,  2.00358881,  1.91192841,  3.15551833,\n",
       "        0.        ,  2.07084809,  2.32949003,  2.21991221,  2.18399365,\n",
       "        2.27279124,  2.28897043,  2.27392924,  2.25320032,  2.15507862,\n",
       "        2.19433522,  2.03182536,  1.41485973,  1.6476474 ,  0.        ,\n",
       "        2.11739938,  2.21302832,  1.82308906,  1.80533337,  2.75567727,\n",
       "        0.        ,  1.83468903,  1.82053118,  2.28950894,  2.30536351,\n",
       "        1.93127924,  2.16393515,  2.16466594,  1.9912896 ,  1.65184245,\n",
       "        2.00565346,  7.78452544,  2.15667061,  1.94751181,  3.45292184,\n",
       "        3.58827223,  2.14540703,  2.12346339,  2.26348015,  3.35618557,\n",
       "        2.25199706,  2.24880897,  2.29415446,  2.27449867,  2.06896124,\n",
       "        2.28135412,  2.25500761,  3.48724301,  2.27449867,  1.82202844])"
      ]
     },
     "execution_count": 46,
     "metadata": {},
     "output_type": "execute_result"
    }
   ],
   "source": [
    "import numpy as np\n",
    "doc_scores"
   ]
  },
  {
   "cell_type": "code",
   "execution_count": 47,
   "metadata": {},
   "outputs": [],
   "source": [
    "normalized_data = (doc_scores - np.min(doc_scores)) / (np.max(doc_scores) - np.min(doc_scores))"
   ]
  },
  {
   "cell_type": "code",
   "execution_count": 54,
   "metadata": {},
   "outputs": [
    {
     "data": {
      "text/plain": [
       "(200,)"
      ]
     },
     "execution_count": 54,
     "metadata": {},
     "output_type": "execute_result"
    }
   ],
   "source": [
    "normalized_data.shape"
   ]
  },
  {
   "cell_type": "code",
   "execution_count": 61,
   "metadata": {},
   "outputs": [],
   "source": [
    "question_embeddings = model_embedding.encode(query, normalize_embeddings=True)\n",
    "similarity = Index @ question_embeddings.T\n",
    "similarity_combind = similarity*0.8 + normalized_data*0.2\n",
    "retrieve_dict = retriever_top(\n",
    "    similarity_combind, \n",
    "    segments, \n",
    "    2\n",
    ")"
   ]
  },
  {
   "cell_type": "code",
   "execution_count": 62,
   "metadata": {},
   "outputs": [
    {
     "data": {
      "text/plain": [
       "{0: {'Index': '23',\n",
       "  'score': '0.7427711606025695',\n",
       "  'content': '<QP-04 基础设施和过程运行环境管理程序.pdf>:5.4.6 行政部负责定期对消防设施的检查以确保消防安全并记录在《消防设施检查表》上。\\n5.5 设施、设备、的报废\\n5.5.1 对无法修复或无使用价值的设施、设备、由使用部门提出申请并填写报废申请单，报\\n总经理批准后交行政部存档，并在《设施、设备台帐》上消帐。\\n5.5.2 在使用现场上的报废设施/设备应标识,并撤离现场或及时申请报废处理。\\n5.6 过程运行环境\\n5.6.1 过程运行环境指工作时所处的条件，包括社会因素、心里因素、物理因素等。\\n5.6.2 行政部负责办公场所环境的监管，以及清洁卫生，负责厂区环境卫生，并搞好工厂绿\\n化，树立企业良好的形象；\\n5.6.3 行政部协助各部门对生产现场、库房严格执行5S 要求：整理、整顿、清洁、清扫、素\\n养，创造良好的工作环境。\\n5.6.4 对无尘车间的管理参照《洁净车间管理规定》严格控制人员清洁和车间环境。'},\n",
       " 1: {'Index': '103',\n",
       "  'score': '0.6766914503282003',\n",
       "  'content': '<QP-13 生产管理程序.pdf>:5.5.1 医疗器械产品的清洁和污染的控制，生产部对于生产完成的产品要进行必要的清洁控\\n制，确保产品的清洁。\\n5.5.2 医疗器械产品安装，产品出货后，如有必要时，由公司相应部门人员进行安装活动，\\n进行安装后的验证，并保持相应的验证记录。\\n5.5.3 医疗器械产品的维护，如顾客有要求时，应该提供必要的售后服务活动。\\n5.6 其它\\n5.6.1 不良品的处理：由生产部进行返工处理，应该由工程部编制《返工指导书》，将详细的\\n返工流程、步骤、返工操作要求及再检验要求进行明确规定，经返工后，必须进行产品的质\\n量再次验证，验证合格方可进入下一道工序作业或出货。\\n5.6.2 生产中使用的材料没有检验合格时，在特殊情况时由生产部填写《特采申请单》，经批\\n准后方可领用投入生产。\\n5.6.3 不可再生使用的报废品，由生产部填写《报废申请单》经品质部核实，总经理批准后\\n报废处理。'}}"
      ]
     },
     "execution_count": 62,
     "metadata": {},
     "output_type": "execute_result"
    }
   ],
   "source": [
    "retrieve_dict"
   ]
  },
  {
   "cell_type": "code",
   "execution_count": 65,
   "metadata": {},
   "outputs": [],
   "source": [
    "import numpy as np\n",
    "def retriever_top(similarity, text_list, num_top):\n",
    "    retrieve_dict = {}\n",
    "    arr = np.array(similarity).flatten()\n",
    "    \n",
    "    # 找到排序后的索引，基于调整后的相似度\n",
    "    sorted_indices = np.array(arr).argsort()\n",
    "    # 因为argsort()返回的是从小到大排序的索引，所以我们需要从末尾开始取\n",
    "    top_indices = sorted_indices[-num_top:][::-1]  # 反转切片以获得最大的几个索引\n",
    "    # 获取对应的值\n",
    "    top_values = np.array(arr)[top_indices]\n",
    "    \n",
    "    # 输出结果\n",
    "    for n, (i, v) in enumerate(zip(top_indices, top_values)):\n",
    "        retrieve_dict[n] = {\n",
    "            'Index': str(i),\n",
    "            'score': str(v),\n",
    "            'content': text_list[i]\n",
    "        }\n",
    "        \n",
    "    return retrieve_dict\n",
    "\n",
    "# retriever 函数保持不变，但调用 retriever_top 时传递额外参数\n",
    "def retriever(model, question, Index, text_list, num_top=1, weight_bm25 = 0.2):\n",
    "    question_embeddings = model.encode(question, normalize_embeddings=True)\n",
    "    normalized_data = calculate_similarity_bm25(text_list, question)\n",
    "    similarity = Index @ question_embeddings.T\n",
    "    similarity_combind = similarity*(1-weight_bm25) + normalized_data*weight_bm25\n",
    "    retrieve_dict = retriever_top(\n",
    "        similarity_combind, \n",
    "        text_list, \n",
    "        num_top\n",
    "    )\n",
    "\n",
    "    return retrieve_dict\n",
    "\n",
    "\n",
    "def calculate_similarity_bm25(text_list, question):\n",
    "    # 对文档集进行分词处理\n",
    "    tokenized_corpus_jieba = [tokenize_with_jieba(doc) for doc in text_list]\n",
    "\n",
    "    # 初始化BM25模型\n",
    "    bm25 = BM25Okapi(tokenized_corpus_jieba,k1=1.5,b=0.6)\n",
    "\n",
    "    # 对查询进行分词处理\n",
    "    tokenized_query = tokenize_with_jieba(question)\n",
    "\n",
    "    # 获取BM25得分\n",
    "    doc_scores = bm25.get_scores(tokenized_query)\n",
    "    normalized_data = (doc_scores - np.min(doc_scores)) / (np.max(doc_scores) - np.min(doc_scores))\n",
    "    return normalized_data\n",
    "\n",
    "question = \"废弃设备怎么处理?\"\n",
    "retrieve_dict = retriever(model_embedding, question, Index, segments, num_top=3, weight_bm25 = 0.2)"
   ]
  },
  {
   "cell_type": "code",
   "execution_count": 66,
   "metadata": {},
   "outputs": [
    {
     "data": {
      "text/plain": [
       "{0: {'Index': '23',\n",
       "  'score': '0.639548685575643',\n",
       "  'content': '<QP-04 基础设施和过程运行环境管理程序.pdf>:5.4.6 行政部负责定期对消防设施的检查以确保消防安全并记录在《消防设施检查表》上。\\n5.5 设施、设备、的报废\\n5.5.1 对无法修复或无使用价值的设施、设备、由使用部门提出申请并填写报废申请单，报\\n总经理批准后交行政部存档，并在《设施、设备台帐》上消帐。\\n5.5.2 在使用现场上的报废设施/设备应标识,并撤离现场或及时申请报废处理。\\n5.6 过程运行环境\\n5.6.1 过程运行环境指工作时所处的条件，包括社会因素、心里因素、物理因素等。\\n5.6.2 行政部负责办公场所环境的监管，以及清洁卫生，负责厂区环境卫生，并搞好工厂绿\\n化，树立企业良好的形象；\\n5.6.3 行政部协助各部门对生产现场、库房严格执行5S 要求：整理、整顿、清洁、清扫、素\\n养，创造良好的工作环境。\\n5.6.4 对无尘车间的管理参照《洁净车间管理规定》严格控制人员清洁和车间环境。'},\n",
       " 1: {'Index': '22',\n",
       "  'score': '0.6064705462583415',\n",
       "  'content': '<QP-04 基础设施和过程运行环境管理程序.pdf>:5.4.1 使用部门应严格按照设备操作指导文件进行操作及维护保养。\\n5.4.2 使用部门需要固定人员负责执行设施、设备的维护保养，定期对设备进行维护保养，\\n并在《设备保养卡》上进行记录。对用于医疗器械产品的生产设备，如维护活动或缺少维护\\n活动可能影响到产品的质量，应该编制相应的“保养计划”，将保养项目、频率进行明确。\\n5.4.3 设施、设备的维修由行政部负责，由使用部门填写《维修申请单》交行政部审核并安\\n深圳市XXXX 有限公司\\n文件编号：XX-QP-04\\n版\\n次：A/0\\n基础设施和过程运行环境管理程序\\n生效日期：2025.09.01\\n页\\n次：3/5\\n排维修，需要委外维修则报总经办批准，由行政部联系委外维修。\\n5.4.4 设施设备维修后由各部门试用验收，并在《维修申请单>验收栏签字确认。\\n5.4.5 行政部应将各生产设备的维修履历记录于<设备履历表》上。'},\n",
       " 2: {'Index': '21',\n",
       "  'score': '0.5895701320603595',\n",
       "  'content': '<QP-04 基础设施和过程运行环境管理程序.pdf>:4.2 各使用部门: 负责本部门所需的设施、设备的使用和日常维护。\\n五程序内容：\\n5.1 设施、设备的识别与管理: 公司所有设施、设备进行编码标识并由行政部统一登记在《设\\n施、设备台帐》并保管。\\n5.2 设施、设备的提供\\n5.2.1 各部门根据实际需求及公司发展需要制定设施，设备计划，行政部会同各相关部门对\\n该计划的合理性、适宜性、价格等进行多方论证。\\n5.2.2 行政部负责对公司场地的合理利用，尽量减少材料的搬运。\\n5.2.3 需购买设施、设备须填写《请购单》，经总经理批准后，再由采购部进行采购。\\n5.3 设施、设备的验收\\n5.3.1 对采购或自制之新设施、设备，由行政部和使用部门进行安装、调试，行政部协助确\\n认满足要求后填写《设施、设备验收单》验收，并入台帐管理。\\n5.3.2 验收不合格的设施、设备由采购部与供方协商退货。\\n4.4 设施、设备的使用、保养与维修'}}"
      ]
     },
     "execution_count": 66,
     "metadata": {},
     "output_type": "execute_result"
    }
   ],
   "source": [
    "retrieve_dict"
   ]
  }
 ],
 "metadata": {
  "kernelspec": {
   "display_name": "torch",
   "language": "python",
   "name": "python3"
  },
  "language_info": {
   "codemirror_mode": {
    "name": "ipython",
    "version": 3
   },
   "file_extension": ".py",
   "mimetype": "text/x-python",
   "name": "python",
   "nbconvert_exporter": "python",
   "pygments_lexer": "ipython3",
   "version": "3.11.11"
  }
 },
 "nbformat": 4,
 "nbformat_minor": 2
}
